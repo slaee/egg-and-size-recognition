{
 "cells": [
  {
   "cell_type": "code",
   "execution_count": 560,
   "metadata": {},
   "outputs": [],
   "source": [
    "from PIL import Image\n",
    "import numpy as np\n",
    "import os\n",
    "import math\n",
    "import cv2\n",
    "from sklearn.linear_model import LinearRegression"
   ]
  },
  {
   "cell_type": "code",
   "execution_count": 561,
   "metadata": {},
   "outputs": [],
   "source": [
    "X = []\n",
    "Y = []"
   ]
  },
  {
   "cell_type": "code",
   "execution_count": 562,
   "metadata": {},
   "outputs": [],
   "source": [
    "folder_path = \"datasets/eggs\"\n",
    "for filename in os.listdir(folder_path):\n",
    "    if filename.endswith(\".png\") and filename.startswith(\"1\"):\n",
    "        # Extract grams from the image name donot include the .png\n",
    "        grams = float(filename.split(\"-\")[1].split(\".png\")[0])\n",
    "        \n",
    "        # Load grayscale image\n",
    "        image_path = os.path.join(folder_path, filename)\n",
    "        image = cv2.imread(image_path, cv2.IMREAD_GRAYSCALE)\n",
    "        \n",
    "        # Calculate the number of white pixels\n",
    "        threshold = np.mean(image)\n",
    "        above_threshold = image > threshold\n",
    "        white_pixels = np.sum(above_threshold)\n",
    "    \n",
    "        # Append to X and Y lists\n",
    "        X.append(white_pixels)\n",
    "        Y.append(grams)\n",
    "    \n",
    "# save the X and Y to one csv file\n",
    "# unsorted = np.column_stack((X, Y))\n",
    "# sorted = unsorted[unsorted[:,0].argsort()]\n",
    "# np.savetxt(\"datasets/eggs.csv\", sorted, delimiter=\",\", fmt='%s')"
   ]
  },
  {
   "cell_type": "code",
   "execution_count": 563,
   "metadata": {},
   "outputs": [
    {
     "name": "stdout",
     "output_type": "stream",
     "text": [
      "[54031, 64354, 53438, 55910, 53439, 55849, 62168, 57768, 56334, 53454, 58372, 55914, 58999, 53964, 52340, 61399, 61761, 56466, 60922, 55339, 55529, 52071, 56456, 56693, 51847, 47860, 49494, 56230, 62931, 55274, 48425, 60764, 52635, 52285, 59893, 57507, 53593, 56262, 56680, 56301, 50762, 51055, 58805, 49818, 50954, 60957, 55649, 58865, 56227, 51251, 55065, 61461, 47411, 58870, 50683, 54141, 53667, 48783, 52799, 59487, 54116, 55201, 56398, 52716, 60626, 54303, 56988, 49500, 56497, 52236, 51326, 51085, 58424, 48066, 60210, 50272, 49922, 58327, 59833, 54564, 49729, 55220, 63358, 57435, 58832, 52091, 54978, 48232, 56883, 58439, 52376, 59850, 53585, 55453, 59376, 52769, 49413, 52750, 56268, 55292, 49722, 49047, 58276, 52832, 64172, 58149, 54994, 55696, 56097, 65183, 62451, 58694, 56443, 57041, 48908, 51495, 48697, 53153, 64910, 53369, 60437, 57123, 53577, 52820, 52748, 60184, 51431, 48765, 52707, 50655, 59018, 59923, 54071, 53709, 62905, 47646, 49713, 49737, 52733, 49589, 59674, 57436, 67460, 56617, 54953, 55084, 51777, 61608, 49957, 60323, 50888, 53042, 55487, 60185, 54876, 59585, 58381, 56548, 56186, 52449, 56178, 49937, 59351, 60293, 53832, 65095, 52513, 50750, 59291, 61943, 56268, 59168, 51703, 53532, 55449, 61278, 55576, 57213, 48335, 59294, 55763, 50406, 58821, 54636, 53846, 54154, 54491, 62043, 54478, 55483, 56118, 57037, 59561, 51555, 62168, 54512, 53430, 50308, 53715, 49614, 49478, 55197, 49181, 60799, 55205, 54434, 49615, 64431, 55922, 50823, 60240, 51016, 49817, 59922, 54209, 52260, 51576, 55768, 60065, 55438, 55443, 58554, 60525, 52826, 49265, 53639, 64710, 62740, 57245, 49841, 49831, 52312, 48879, 50328, 60918, 55059, 56996, 57635, 48987, 61962, 52643, 49712, 59075, 56521, 50779, 53726, 60262, 49743, 54037, 48850, 50455, 54469, 53597, 53315, 53645, 55500, 55474, 51221, 53986, 61780, 50508, 54177, 49605, 50402, 50066, 58065, 53221, 59715, 61491, 55985, 71038, 50266, 65594, 50321, 51085, 50776, 50235, 55397, 58804, 50843, 54565, 49949, 49263, 58954, 61826, 58788, 55872, 58976, 60961, 55644, 56398, 59458, 61229, 61738, 61090, 56761, 48560, 61393, 51437, 56606, 59466, 50845, 56249, 50118, 50329, 56465, 58427, 56779, 50792, 55926, 54902, 57414, 55256, 51449, 50532, 50504, 58725, 55589, 59373, 58938, 49888, 58091, 52019, 55291, 56567, 49507, 60873, 57342, 55720, 58309, 58896, 50501, 55190, 55664, 56500, 53809, 55555, 55955, 51938, 52453, 50147, 52920, 53115, 49539, 53636, 55120, 59689, 57497, 49093, 56121, 53679, 50364, 58909, 56155, 57236, 52583, 50073, 54396, 54958, 51825, 56186, 54857, 50355, 49528, 52601, 61204, 57370, 59274, 56078, 55995, 49318, 55729, 50314, 62471, 53677, 52651, 60487, 57277, 50969, 61803, 54906, 50716, 67319, 58278, 58948, 54655, 55572, 62951, 50392, 55362, 60935, 54894, 60880, 59097, 51402, 59452, 65550, 57552, 58571, 54403, 50784, 56575, 71337, 53343, 50718, 59033, 51000, 57051, 48278, 53954, 58652, 50178, 50269]\n",
      "[57.8, 70.6, 58.7, 62.7, 59.1, 61.9, 68.6, 64.1, 61.3, 55.3, 64.7, 61.2, 66.4, 60.4, 58.3, 66.3, 67.8, 61.8, 67.0, 59.2, 61.9, 56.9, 62.8, 63.0, 52.9, 51.1, 52.6, 62.4, 68.4, 61.4, 51.3, 66.6, 57.3, 58.0, 67.2, 64.7, 57.9, 62.9, 63.3, 62.4, 53.5, 54.3, 64.9, 53.3, 54.2, 67.9, 58.2, 62.6, 62.1, 54.6, 60.4, 68.9, 51.6, 67.1, 54.2, 58.8, 58.5, 52.2, 57.1, 64.8, 58.7, 59.4, 62.8, 56.1, 67.5, 60.6, 63.2, 53.5, 62.8, 56.6, 55.7, 55.6, 64.6, 52.3, 65.3, 51.9, 52.7, 65.1, 66.8, 60.5, 53.2, 62.0, 68.6, 62.8, 65.4, 54.3, 58.6, 51.9, 63.0, 66.3, 57.2, 66.9, 57.6, 61.4, 64.7, 56.2, 51.6, 56.7, 62.0, 61.6, 53.7, 51.8, 64.1, 56.9, 70.2, 65.2, 60.5, 62.7, 62.3, 72.2, 68.0, 63.0, 62.8, 62.3, 51.5, 51.9, 52.6, 59.4, 71.6, 57.0, 67.0, 62.5, 57.8, 55.9, 56.0, 66.2, 55.8, 51.2, 57.0, 53.8, 66.5, 64.2, 56.9, 59.2, 68.6, 50.3, 52.8, 53.6, 57.5, 53.9, 66.4, 62.5, 75.0, 62.0, 61.7, 56.8, 55.7, 68.2, 53.0, 67.5, 53.4, 56.9, 61.6, 68.8, 60.9, 66.5, 64.4, 63.1, 60.5, 58.3, 62.5, 53.0, 66.6, 66.3, 60.6, 72.8, 56.7, 54.2, 65.4, 67.1, 58.8, 66.9, 52.1, 58.8, 59.0, 67.5, 61.8, 63.4, 52.3, 64.7, 61.6, 54.6, 65.2, 59.3, 58.4, 57.7, 58.6, 66.8, 59.8, 61.2, 61.7, 62.7, 66.5, 53.7, 67.3, 59.3, 58.5, 52.4, 58.4, 52.3, 50.9, 58.2, 52.3, 68.9, 61.9, 59.4, 53.6, 71.5, 61.7, 54.3, 68.6, 55.1, 51.5, 67.8, 58.7, 56.8, 55.1, 59.5, 67.0, 61.0, 62.0, 66.4, 67.1, 55.8, 51.9, 57.7, 72.3, 68.3, 62.8, 52.6, 52.9, 57.0, 52.5, 53.6, 66.8, 61.4, 63.4, 61.3, 52.0, 68.5, 54.3, 53.3, 65.9, 62.1, 52.3, 58.7, 67.9, 53.9, 57.5, 54.1, 54.0, 60.5, 58.5, 57.9, 58.5, 62.1, 61.5, 53.7, 58.6, 67.0, 53.1, 57.5, 52.8, 53.9, 52.7, 65.1, 57.4, 65.1, 68.8, 62.3, 77.0, 53.2, 73.4, 54.0, 54.0, 53.2, 53.2, 61.9, 65.5, 53.5, 60.2, 52.3, 53.2, 64.7, 68.9, 65.0, 61.6, 65.2, 66.8, 61.3, 59.5, 68.1, 68.6, 68.5, 67.8, 63.0, 52.4, 67.4, 53.0, 62.8, 66.8, 54.6, 63.3, 52.5, 53.0, 61.2, 64.8, 62.8, 52.9, 61.6, 60.8, 61.6, 58.6, 55.1, 53.0, 53.2, 64.6, 61.8, 66.5, 66.6, 53.9, 64.1, 56.6, 61.4, 62.8, 53.0, 66.7, 63.3, 63.2, 63.0, 64.5, 53.8, 60.7, 63.2, 62.5, 58.7, 58.5, 62.4, 56.8, 56.6, 53.0, 57.1, 57.7, 53.0, 58.7, 60.9, 65.6, 61.9, 53.2, 62.8, 58.2, 53.3, 65.8, 62.5, 56.9, 57.7, 55.7, 58.3, 59.2, 56.8, 61.9, 60.6, 54.3, 52.3, 55.3, 67.8, 62.5, 65.1, 62.7, 62.0, 52.0, 62.3, 54.5, 68.5, 57.5, 56.8, 67.3, 63.1, 54.3, 69.2, 59.0, 53.2, 73.9, 64.6, 65.8, 58.0, 61.2, 68.0, 54.3, 58.1, 67.8, 58.3, 67.6, 65.8, 56.1, 70.8, 72.9, 64.0, 65.0, 61.9, 54.1, 63.2, 81.2, 56.8, 55.1, 65.4, 53.2, 62.6, 51.8, 59.0, 65.3, 51.5, 53.0]\n"
     ]
    }
   ],
   "source": [
    "print(X)\n",
    "print(Y)"
   ]
  },
  {
   "cell_type": "code",
   "execution_count": 564,
   "metadata": {},
   "outputs": [
    {
     "name": "stdout",
     "output_type": "stream",
     "text": [
      "[[54031.]\n",
      " [64354.]\n",
      " [53438.]\n",
      " ...\n",
      " [69544.]\n",
      " [69345.]\n",
      " [69343.]]\n",
      "[57.8 70.6 58.7 ... 75.6 75.4 75.7]\n"
     ]
    }
   ],
   "source": [
    "# load datasets/eggs/eggs.csv\n",
    "for line in open(\"datasets/eggs.csv\"):\n",
    "    # Split line on comma\n",
    "    data = line.split(\",\")\n",
    "    \n",
    "    # Extract grams and yolks\n",
    "    grams = float(data[1])\n",
    "    pixels = float(data[0])\n",
    "    \n",
    "    # Append to X and Y lists\n",
    "    X.append(pixels)\n",
    "    Y.append(grams)\n",
    "\n",
    "X = np.array(X).reshape(-1, 1)\n",
    "Y = np.array(Y)\n",
    "\n",
    "print (X)\n",
    "print (Y)"
   ]
  },
  {
   "cell_type": "code",
   "execution_count": 565,
   "metadata": {},
   "outputs": [
    {
     "data": {
      "text/html": [
       "<style>#sk-container-id-43 {color: black;background-color: white;}#sk-container-id-43 pre{padding: 0;}#sk-container-id-43 div.sk-toggleable {background-color: white;}#sk-container-id-43 label.sk-toggleable__label {cursor: pointer;display: block;width: 100%;margin-bottom: 0;padding: 0.3em;box-sizing: border-box;text-align: center;}#sk-container-id-43 label.sk-toggleable__label-arrow:before {content: \"▸\";float: left;margin-right: 0.25em;color: #696969;}#sk-container-id-43 label.sk-toggleable__label-arrow:hover:before {color: black;}#sk-container-id-43 div.sk-estimator:hover label.sk-toggleable__label-arrow:before {color: black;}#sk-container-id-43 div.sk-toggleable__content {max-height: 0;max-width: 0;overflow: hidden;text-align: left;background-color: #f0f8ff;}#sk-container-id-43 div.sk-toggleable__content pre {margin: 0.2em;color: black;border-radius: 0.25em;background-color: #f0f8ff;}#sk-container-id-43 input.sk-toggleable__control:checked~div.sk-toggleable__content {max-height: 200px;max-width: 100%;overflow: auto;}#sk-container-id-43 input.sk-toggleable__control:checked~label.sk-toggleable__label-arrow:before {content: \"▾\";}#sk-container-id-43 div.sk-estimator input.sk-toggleable__control:checked~label.sk-toggleable__label {background-color: #d4ebff;}#sk-container-id-43 div.sk-label input.sk-toggleable__control:checked~label.sk-toggleable__label {background-color: #d4ebff;}#sk-container-id-43 input.sk-hidden--visually {border: 0;clip: rect(1px 1px 1px 1px);clip: rect(1px, 1px, 1px, 1px);height: 1px;margin: -1px;overflow: hidden;padding: 0;position: absolute;width: 1px;}#sk-container-id-43 div.sk-estimator {font-family: monospace;background-color: #f0f8ff;border: 1px dotted black;border-radius: 0.25em;box-sizing: border-box;margin-bottom: 0.5em;}#sk-container-id-43 div.sk-estimator:hover {background-color: #d4ebff;}#sk-container-id-43 div.sk-parallel-item::after {content: \"\";width: 100%;border-bottom: 1px solid gray;flex-grow: 1;}#sk-container-id-43 div.sk-label:hover label.sk-toggleable__label {background-color: #d4ebff;}#sk-container-id-43 div.sk-serial::before {content: \"\";position: absolute;border-left: 1px solid gray;box-sizing: border-box;top: 0;bottom: 0;left: 50%;z-index: 0;}#sk-container-id-43 div.sk-serial {display: flex;flex-direction: column;align-items: center;background-color: white;padding-right: 0.2em;padding-left: 0.2em;position: relative;}#sk-container-id-43 div.sk-item {position: relative;z-index: 1;}#sk-container-id-43 div.sk-parallel {display: flex;align-items: stretch;justify-content: center;background-color: white;position: relative;}#sk-container-id-43 div.sk-item::before, #sk-container-id-43 div.sk-parallel-item::before {content: \"\";position: absolute;border-left: 1px solid gray;box-sizing: border-box;top: 0;bottom: 0;left: 50%;z-index: -1;}#sk-container-id-43 div.sk-parallel-item {display: flex;flex-direction: column;z-index: 1;position: relative;background-color: white;}#sk-container-id-43 div.sk-parallel-item:first-child::after {align-self: flex-end;width: 50%;}#sk-container-id-43 div.sk-parallel-item:last-child::after {align-self: flex-start;width: 50%;}#sk-container-id-43 div.sk-parallel-item:only-child::after {width: 0;}#sk-container-id-43 div.sk-dashed-wrapped {border: 1px dashed gray;margin: 0 0.4em 0.5em 0.4em;box-sizing: border-box;padding-bottom: 0.4em;background-color: white;}#sk-container-id-43 div.sk-label label {font-family: monospace;font-weight: bold;display: inline-block;line-height: 1.2em;}#sk-container-id-43 div.sk-label-container {text-align: center;}#sk-container-id-43 div.sk-container {/* jupyter's `normalize.less` sets `[hidden] { display: none; }` but bootstrap.min.css set `[hidden] { display: none !important; }` so we also need the `!important` here to be able to override the default hidden behavior on the sphinx rendered scikit-learn.org. See: https://github.com/scikit-learn/scikit-learn/issues/21755 */display: inline-block !important;position: relative;}#sk-container-id-43 div.sk-text-repr-fallback {display: none;}</style><div id=\"sk-container-id-43\" class=\"sk-top-container\"><div class=\"sk-text-repr-fallback\"><pre>LinearRegression()</pre><b>In a Jupyter environment, please rerun this cell to show the HTML representation or trust the notebook. <br />On GitHub, the HTML representation is unable to render, please try loading this page with nbviewer.org.</b></div><div class=\"sk-container\" hidden><div class=\"sk-item\"><div class=\"sk-estimator sk-toggleable\"><input class=\"sk-toggleable__control sk-hidden--visually\" id=\"sk-estimator-id-43\" type=\"checkbox\" checked><label for=\"sk-estimator-id-43\" class=\"sk-toggleable__label sk-toggleable__label-arrow\">LinearRegression</label><div class=\"sk-toggleable__content\"><pre>LinearRegression()</pre></div></div></div></div></div>"
      ],
      "text/plain": [
       "LinearRegression()"
      ]
     },
     "execution_count": 565,
     "metadata": {},
     "output_type": "execute_result"
    }
   ],
   "source": [
    "model = LinearRegression()\n",
    "model.fit(X, Y)"
   ]
  },
  {
   "cell_type": "code",
   "execution_count": 566,
   "metadata": {},
   "outputs": [
    {
     "name": "stdout",
     "output_type": "stream",
     "text": [
      "Predicted grams: [46.08292981]\n"
     ]
    }
   ],
   "source": [
    "new_white_pixels = 43953  # Example value\n",
    "predicted_grams = model.predict([[new_white_pixels]])\n",
    "print(\"Predicted grams:\", predicted_grams)"
   ]
  },
  {
   "cell_type": "code",
   "execution_count": 567,
   "metadata": {},
   "outputs": [],
   "source": [
    "# save the model\n",
    "import pickle\n",
    "filename = 'model/finalized_model.sav'\n",
    "pickle.dump(model, open(filename, 'wb'))"
   ]
  },
  {
   "cell_type": "code",
   "execution_count": 568,
   "metadata": {},
   "outputs": [
    {
     "name": "stdout",
     "output_type": "stream",
     "text": [
      "18\n",
      "25\n",
      "18\n",
      "21\n",
      "18\n",
      "20\n"
     ]
    }
   ],
   "source": [
    "# load the model from disk\n",
    "model = pickle.load(open(filename, 'rb+'))\n",
    "\n",
    "pewee_count = 0\n",
    "small_count = 0\n",
    "medium_count = 0\n",
    "large_count = 0\n",
    "xl_count = 0\n",
    "jumbo_count = 0\n",
    "\n",
    "# for filename in os.listdir(test_path):\n",
    "#     if filename.endswith(\".png\") and filename.startswith(\"1\"):\n",
    "#         # Extract grams from the image name donot include the .png\n",
    "#         wpixels = int(filename.split(\"-\")[2].split(\".png\")[0])\n",
    "for line in open(\"datasets/tests.csv\"):\n",
    "    xtest = float(line)\n",
    "    result = model.predict([[xtest]])\n",
    "    result = math.floor(result[0])\n",
    "    if result >= 40 and result <= 49:\n",
    "        pewee_count = pewee_count + 1\n",
    "    elif result >= 50 and result <= 54:\n",
    "        small_count = small_count + 1\n",
    "    elif result >= 55 and result <= 59:\n",
    "        medium_count = medium_count + 1\n",
    "    elif result >= 60 and result <= 64:\n",
    "        large_count = large_count + 1\n",
    "    elif result >= 65 and result <= 69:\n",
    "        xl_count = xl_count + 1\n",
    "    elif result >= 70:\n",
    "        jumbo_count = jumbo_count + 1\n",
    "\n",
    "print(pewee_count)\n",
    "print(small_count)\n",
    "print(medium_count)\n",
    "print(large_count)\n",
    "print(xl_count)\n",
    "print(jumbo_count)"
   ]
  },
  {
   "cell_type": "code",
   "execution_count": 569,
   "metadata": {},
   "outputs": [
    {
     "name": "stdout",
     "output_type": "stream",
     "text": [
      "Pewee prediction accuracy: 90.0%\n",
      "Small prediction accuracy: 100%\n",
      "Medium prediction accuracy: 90.0%\n",
      "Large prediction accuracy: 100%\n",
      "XL prediction accuracy: 90.0%\n",
      "Jumbo prediction accuracy: 100%\n",
      "--------------------------------------\n",
      "Overall prediction accuracy: 95.0%\n"
     ]
    }
   ],
   "source": [
    "# calculate the accuracy with the test data count using cross entropy\n",
    "pewee_accuracy = pewee_count / 20\n",
    "small_accuracy = small_count / 20\n",
    "medium_accuracy = medium_count / 20\n",
    "large_accuracy = large_count / 20\n",
    "xl_accuracy = xl_count / 20\n",
    "jumbo_accuracy = jumbo_count / 20\n",
    "\n",
    "pewee_accuracy = pewee_accuracy * 100\n",
    "small_accuracy = small_accuracy * 100\n",
    "medium_accuracy = medium_accuracy * 100\n",
    "large_accuracy = large_accuracy * 100\n",
    "xl_accuracy = xl_accuracy * 100\n",
    "jumbo_accuracy = jumbo_accuracy * 100\n",
    "\n",
    "pa = pewee_accuracy if pewee_accuracy < 100 else 100\n",
    "sa = small_accuracy if small_accuracy < 100 else 100\n",
    "ma = medium_accuracy if medium_accuracy < 100 else 100\n",
    "la = large_accuracy if large_accuracy < 100 else 100\n",
    "xa = xl_accuracy if xl_accuracy < 100 else 100\n",
    "ja = jumbo_accuracy if jumbo_accuracy < 100 else 100\n",
    "\n",
    "overall_accuracy = (pa + sa + ma + la + xa + ja) / 6\n",
    "\n",
    "print(f\"Pewee prediction accuracy: {pa}%\")\n",
    "print(f\"Small prediction accuracy: {sa}%\")\n",
    "print(f\"Medium prediction accuracy: {ma}%\")\n",
    "print(f\"Large prediction accuracy: {la}%\")\n",
    "print(f\"XL prediction accuracy: {xa}%\")\n",
    "print(f\"Jumbo prediction accuracy: {ja}%\")\n",
    "print(\"--------------------------------------\")\n",
    "print(f\"Overall prediction accuracy: {overall_accuracy}%\")\n"
   ]
  },
  {
   "cell_type": "code",
   "execution_count": 570,
   "metadata": {},
   "outputs": [
    {
     "data": {
      "image/png": "[encoded data removed]",
      "text/plain": [
       "<Figure size 640x480 with 1 Axes>"
      ]
     },
     "metadata": {},
     "output_type": "display_data"
    }
   ],
   "source": [
    "import matplotlib.pyplot as plt\n",
    "\n",
    "# Data to plot is X and Y using scatter plot # with the fit line\n",
    "plt.scatter(X, Y, color='blue', s=2)\n",
    "plt.plot(X, model.predict(X), color='red', linewidth=1)\n",
    "# put the Y-axis label\n",
    "plt.ylabel('Egg weight in Grams')\n",
    "# put the X-axis label\n",
    "plt.xlabel('Egg image white pixels')\n",
    "# put the title\n",
    "plt.title('Egg weight prediction')\n",
    "# show the plot\n",
    "plt.show()"
   ]
  },
  {
   "cell_type": "code",
   "execution_count": 571,
   "metadata": {},
   "outputs": [
    {
     "name": "stdout",
     "output_type": "stream",
     "text": [
      "                            OLS Regression Results                            \n",
      "==============================================================================\n",
      "Dep. Variable:                      y   R-squared:                       0.969\n",
      "Model:                            OLS   Adj. R-squared:                  0.969\n",
      "Method:                 Least Squares   F-statistic:                 3.192e+04\n",
      "Date:                Thu, 15 Jun 2023   Prob (F-statistic):               0.00\n",
      "Time:                        18:14:18   Log-Likelihood:                -1640.2\n",
      "No. Observations:                1027   AIC:                             3284.\n",
      "Df Residuals:                    1025   BIC:                             3294.\n",
      "Df Model:                           1                                         \n",
      "Covariance Type:            nonrobust                                         \n",
      "==============================================================================\n",
      "                 coef    std err          t      P>|t|      [0.025      0.975]\n",
      "------------------------------------------------------------------------------\n",
      "const         -8.9044      0.389    -22.870      0.000      -9.668      -8.140\n",
      "x1             0.0013      7e-06    178.674      0.000       0.001       0.001\n",
      "==============================================================================\n",
      "Omnibus:                       54.108   Durbin-Watson:                   1.555\n",
      "Prob(Omnibus):                  0.000   Jarque-Bera (JB):              110.892\n",
      "Skew:                          -0.338   Prob(JB):                     8.32e-25\n",
      "Kurtosis:                       4.461   Cond. No.                     5.80e+05\n",
      "==============================================================================\n",
      "\n",
      "Notes:\n",
      "[1] Standard Errors assume that the covariance matrix of the errors is correctly specified.\n",
      "[2] The condition number is large, 5.8e+05. This might indicate that there are\n",
      "strong multicollinearity or other numerical problems.\n"
     ]
    }
   ],
   "source": [
    "# print the table summary\n",
    "import statsmodels.api as sm\n",
    "X = sm.add_constant(X)\n",
    "model = sm.OLS(Y, X).fit()\n",
    "\n",
    "print(model.summary())\n"
   ]
  }
 ],
 "metadata": {
  "kernelspec": {
   "display_name": "ten_env",
   "language": "python",
   "name": "python3"
  },
  "language_info": {
   "codemirror_mode": {
    "name": "ipython",
    "version": 3
   },
   "file_extension": ".py",
   "mimetype": "text/x-python",
   "name": "python",
   "nbconvert_exporter": "python",
   "pygments_lexer": "ipython3",
   "version": "3.11.4"
  },
  "orig_nbformat": 4
 },
 "nbformat": 4,
 "nbformat_minor": 2
}
