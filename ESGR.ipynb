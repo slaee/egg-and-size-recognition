{
 "cells": [
  {
   "cell_type": "code",
   "execution_count": 1,
   "metadata": {},
   "outputs": [
    {
     "name": "stderr",
     "output_type": "stream",
     "text": [
      "2023-06-06 21:22:21.447936: I tensorflow/core/platform/cpu_feature_guard.cc:182] This TensorFlow binary is optimized to use available CPU instructions in performance-critical operations.\n",
      "To enable the following instructions: AVX2 FMA, in other operations, rebuild TensorFlow with the appropriate compiler flags.\n",
      "2023-06-06 21:22:24.327439: W tensorflow/compiler/tf2tensorrt/utils/py_utils.cc:38] TF-TRT Warning: Could not find TensorRT\n"
     ]
    }
   ],
   "source": [
    "import tensorflow as tf"
   ]
  },
  {
   "cell_type": "code",
   "execution_count": 11,
   "metadata": {},
   "outputs": [
    {
     "name": "stdout",
     "output_type": "stream",
     "text": [
      "Model: \"sequential_4\"\n",
      "_________________________________________________________________\n",
      " Layer (type)                Output Shape              Param #   \n",
      "=================================================================\n",
      " conv2d_14 (Conv2D)          (None, 368, 368, 16)      160       \n",
      "                                                                 \n",
      " max_pooling2d_14 (MaxPoolin  (None, 184, 184, 16)     0         \n",
      " g2D)                                                            \n",
      "                                                                 \n",
      " conv2d_15 (Conv2D)          (None, 182, 182, 32)      4640      \n",
      "                                                                 \n",
      " max_pooling2d_15 (MaxPoolin  (None, 91, 91, 32)       0         \n",
      " g2D)                                                            \n",
      "                                                                 \n",
      " conv2d_16 (Conv2D)          (None, 89, 89, 64)        18496     \n",
      "                                                                 \n",
      " max_pooling2d_16 (MaxPoolin  (None, 44, 44, 64)       0         \n",
      " g2D)                                                            \n",
      "                                                                 \n",
      " flatten_4 (Flatten)         (None, 123904)            0         \n",
      "                                                                 \n",
      " dense_8 (Dense)             (None, 512)               63439360  \n",
      "                                                                 \n",
      " dense_9 (Dense)             (None, 6)                 3078      \n",
      "                                                                 \n",
      "=================================================================\n",
      "Total params: 63,465,734\n",
      "Trainable params: 63,465,734\n",
      "Non-trainable params: 0\n",
      "_________________________________________________________________\n"
     ]
    }
   ],
   "source": [
    "# create CNN model for egg recognition for input image size 500x500 from RGB to grayscale but float32 type, then with label healthy or unhealthy and (1, 2, 3, 4, 5, 6) as size of the egg\n",
    "model = tf.keras.models.Sequential([\n",
    "    tf.keras.layers.Conv2D(16, (3, 3), activation='relu', input_shape=(370, 370, 1)),\n",
    "    tf.keras.layers.MaxPooling2D(2, 2),\n",
    "    tf.keras.layers.Conv2D(32, (3, 3), activation='relu'),\n",
    "    tf.keras.layers.MaxPooling2D(2, 2),\n",
    "    tf.keras.layers.Conv2D(64, (3, 3), activation='relu'),\n",
    "    tf.keras.layers.MaxPooling2D(2, 2),\n",
    "    tf.keras.layers.Flatten(),\n",
    "    tf.keras.layers.Dense(units=512, activation='relu'),\n",
    "    tf.keras.layers.Dense(units=6, activation='softmax')\n",
    "])\n",
    "\n",
    "# compile the model with adam optimizer and loss function categorical crossentropy\n",
    "model.compile(optimizer='adam', loss='categorical_crossentropy', metrics=['accuracy'])\n",
    "\n",
    "# print the summary of the model\n",
    "model.summary()\n"
   ]
  },
  {
   "cell_type": "code",
   "execution_count": 35,
   "metadata": {},
   "outputs": [
    {
     "name": "stdout",
     "output_type": "stream",
     "text": [
      "Found 1 images belonging to 1 classes.\n",
      "Epoch 1/100\n"
     ]
    },
    {
     "name": "stderr",
     "output_type": "stream",
     "text": [
      "2023-06-06 21:58:35.662790: I tensorflow/core/common_runtime/executor.cc:1197] [/device:CPU:0] (DEBUG INFO) Executor start aborting (this does not indicate an error and you can ignore this message): INVALID_ARGUMENT: You must feed a value for placeholder tensor 'Placeholder/_0' with dtype int32\n",
      "\t [[{{node Placeholder/_0}}]]\n"
     ]
    },
    {
     "name": "stdout",
     "output_type": "stream",
     "text": [
      "  1/100 [..............................] - ETA: 2:22 - loss: 19.3137 - accuracy: 1.0000WARNING:tensorflow:Your input ran out of data; interrupting training. Make sure that your dataset or generator can generate at least `steps_per_epoch * epochs` batches (in this case, 10000 batches). You may need to use the repeat() function when building your dataset.\n",
      "100/100 [==============================] - 1s 301us/step - loss: 19.3137 - accuracy: 1.0000\n"
     ]
    },
    {
     "data": {
      "text/plain": [
       "<keras.callbacks.History at 0x7fa8e05a4f10>"
      ]
     },
     "execution_count": 35,
     "metadata": {},
     "output_type": "execute_result"
    }
   ],
   "source": [
    "# get the image datasets from the datasets/grayscale folder where the image name is the label like unhealthy-1.png\n",
    "train_datagen = tf.keras.preprocessing.image.ImageDataGenerator(rescale=1.0/255.0)\n",
    "\n",
    "# get the image datasets from the datasets/grayscale folder where the image name is the label like unhealthy-1.png\n",
    "y_labels = ['healthy-1', 'healthy-2', 'healthy-3', 'healthy-4', 'healthy-5', 'healthy-6', 'unhealthy-1', 'unhealthy-2', 'unhealthy-3', 'unhealthy-4', 'unhealthy-5', 'unhealthy-6']\n",
    "\n",
    "# get the image datasets from the datasets/grayscale folder where the image name is the label like unhealthy-1.png\n",
    "train_generator = train_datagen.flow_from_directory(\n",
    "        'datasets/grayscale',\n",
    "        target_size=(370, 370),\n",
    "        batch_size=32,\n",
    "        class_mode='categorical',\n",
    "        color_mode='grayscale')\n",
    "\n",
    "# train the model with 10 epochs\n",
    "model.fit(\n",
    "        train_generator,\n",
    "        steps_per_epoch=100,\n",
    "        epochs=100,\n",
    "        verbose=1)\n"
   ]
  },
  {
   "cell_type": "code",
   "execution_count": 36,
   "metadata": {},
   "outputs": [],
   "source": [
    "# save the model to the model folder\n",
    "model.save('model/ESGR.h5')"
   ]
  },
  {
   "cell_type": "code",
   "execution_count": 37,
   "metadata": {},
   "outputs": [
    {
     "name": "stdout",
     "output_type": "stream",
     "text": [
      "1/1 [==============================] - 0s 119ms/step\n",
      "0\n"
     ]
    }
   ],
   "source": [
    "# load the model from the model folder\n",
    "tmodel = tf.keras.models.load_model('model/ESGR.h5')\n",
    "\n",
    "# load the image from the datasets/test folder\n",
    "img = tf.keras.preprocessing.image.load_img('datasets/grayscale/unhealthy-1/unhealthy-1.png', target_size=(370, 370), color_mode='grayscale')\n",
    "\n",
    "# convert the image to array\n",
    "img_array = tf.keras.preprocessing.image.img_to_array(img)\n",
    "\n",
    "# reshape the image array\n",
    "img_array = tf.expand_dims(img_array, 0)\n",
    "\n",
    "# predict the image\n",
    "predictions = tmodel.predict(img_array)\n",
    "\n",
    "# get the label of the prediction\n",
    "score = tf.nn.softmax(predictions[0])\n",
    "\n",
    "import numpy as np\n",
    "\n",
    "# print the label of the prediction\n",
    "print(np.argmax(score))\n"
   ]
  }
 ],
 "metadata": {
  "kernelspec": {
   "display_name": "ten_env",
   "language": "python",
   "name": "python3"
  },
  "language_info": {
   "codemirror_mode": {
    "name": "ipython",
    "version": 3
   },
   "file_extension": ".py",
   "mimetype": "text/x-python",
   "name": "python",
   "nbconvert_exporter": "python",
   "pygments_lexer": "ipython3",
   "version": "3.11.2"
  },
  "orig_nbformat": 4
 },
 "nbformat": 4,
 "nbformat_minor": 2
}
